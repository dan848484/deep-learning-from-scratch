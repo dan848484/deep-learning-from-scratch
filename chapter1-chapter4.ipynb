{
  "cells": [
    {
      "cell_type": "markdown",
      "metadata": {},
      "source": [
        "# パッケージのインポート\n"
      ]
    },
    {
      "cell_type": "code",
      "execution_count": 1,
      "metadata": {},
      "outputs": [],
      "source": [
        "import matplotlib.pylab as plt\n",
        "import numpy as np\n",
        "import numpy.typing as npt"
      ]
    },
    {
      "cell_type": "markdown",
      "metadata": {},
      "source": [
        "# Deep Learning From Scratch\n",
        "\n",
        "https://github.com/oreilly-japan/deep-learning-from-scratch\n"
      ]
    },
    {
      "cell_type": "markdown",
      "metadata": {},
      "source": [
        "# Chapter2 　パーセプトロンの実装\n"
      ]
    },
    {
      "cell_type": "code",
      "execution_count": 2,
      "metadata": {},
      "outputs": [],
      "source": [
        "def AND(x1: int, x2: int):\n",
        "    x = np.array([x1, x2])\n",
        "    w = np.array([0.5, 0.5])\n",
        "    b = -0.7\n",
        "    tmp = np.sum(w * x) + b\n",
        "    return 1 if tmp > 0 else 0\n",
        "\n",
        "\n",
        "assert AND(0, 0) == 0\n",
        "assert AND(0, 1) == 0\n",
        "assert AND(1, 0) == 0\n",
        "assert AND(1, 1) == 1"
      ]
    },
    {
      "cell_type": "code",
      "execution_count": 3,
      "metadata": {},
      "outputs": [],
      "source": [
        "def NAND(x1: int, x2: int):\n",
        "    x = np.array([x1, x2])\n",
        "    w = np.array([-0.5, -0.5])\n",
        "    b = 0.7\n",
        "    tmp = np.sum(x * w) + b\n",
        "    return 1 if tmp > 0 else 0\n",
        "\n",
        "\n",
        "assert NAND(0, 0) == 1\n",
        "assert NAND(0, 1) == 1\n",
        "assert NAND(1, 0) == 1\n",
        "assert NAND(1, 1) == 0"
      ]
    },
    {
      "cell_type": "code",
      "execution_count": 4,
      "metadata": {},
      "outputs": [],
      "source": [
        "def OR(x1: int, x2: int):\n",
        "    x = np.array([x1, x2])\n",
        "    w = np.array([0.5, 0.5])\n",
        "    b = -0.2\n",
        "    tmp = np.sum(x * w) + b\n",
        "    return 1 if tmp > 0 else 0\n",
        "\n",
        "\n",
        "assert OR(0, 0) == 0\n",
        "assert OR(0, 1) == 1\n",
        "assert OR(1, 0) == 1\n",
        "assert OR(1, 1) == 1"
      ]
    },
    {
      "cell_type": "code",
      "execution_count": 5,
      "metadata": {},
      "outputs": [],
      "source": [
        "def XOR(x1: int, x2: int):\n",
        "    s1 = NAND(x1, x2)\n",
        "    s2 = OR(x1, x2)\n",
        "    y = AND(s1, s2)\n",
        "    return y\n",
        "\n",
        "\n",
        "assert XOR(0, 0) == 0\n",
        "assert XOR(0, 1) == 1\n",
        "assert XOR(1, 0) == 1\n",
        "assert XOR(1, 1) == 0"
      ]
    },
    {
      "cell_type": "markdown",
      "metadata": {},
      "source": [
        "# Chapter3 ニューラルネットワーク\n"
      ]
    },
    {
      "cell_type": "code",
      "execution_count": 6,
      "metadata": {},
      "outputs": [
        {
          "data": {
            "image/png": "[encoded data removed]",
            "text/plain": [
              "<Figure size 640x480 with 1 Axes>"
            ]
          },
          "metadata": {},
          "output_type": "display_data"
        }
      ],
      "source": [
        "def step_function(x: npt.NDArray):\n",
        "    return np.array(x > 0, dtype=np.int_)\n",
        "\n",
        "\n",
        "x = np.arange(-5.0, 5.0, 0.1)\n",
        "y = step_function(x)\n",
        "plt.plot(x, y)\n",
        "plt.show()"
      ]
    },
    {
      "cell_type": "code",
      "execution_count": 7,
      "metadata": {},
      "outputs": [],
      "source": [
        "def sigmoid(x):\n",
        "    return 1 / (1 + np.exp(-x))"
      ]
    },
    {
      "cell_type": "code",
      "execution_count": 8,
      "metadata": {},
      "outputs": [],
      "source": [
        "def relu(x: int):\n",
        "    return np.maximum(0, x)"
      ]
    },
    {
      "cell_type": "markdown",
      "metadata": {},
      "source": [
        "## 多次元配列、行列\n"
      ]
    },
    {
      "cell_type": "code",
      "execution_count": 9,
      "metadata": {},
      "outputs": [
        {
          "name": "stdout",
          "output_type": "stream",
          "text": [
            "[1 2 3 4]\n"
          ]
        }
      ],
      "source": [
        "A = np.array([1, 2, 3, 4])\n",
        "print(A)"
      ]
    },
    {
      "cell_type": "code",
      "execution_count": 10,
      "metadata": {},
      "outputs": [
        {
          "data": {
            "text/plain": [
              "1"
            ]
          },
          "execution_count": 10,
          "metadata": {},
          "output_type": "execute_result"
        }
      ],
      "source": [
        "np.ndim(A)"
      ]
    },
    {
      "cell_type": "code",
      "execution_count": 11,
      "metadata": {},
      "outputs": [
        {
          "data": {
            "text/plain": [
              "(4,)"
            ]
          },
          "execution_count": 11,
          "metadata": {},
          "output_type": "execute_result"
        }
      ],
      "source": [
        "A.shape"
      ]
    },
    {
      "cell_type": "code",
      "execution_count": 12,
      "metadata": {},
      "outputs": [
        {
          "data": {
            "text/plain": [
              "4"
            ]
          },
          "execution_count": 12,
          "metadata": {},
          "output_type": "execute_result"
        }
      ],
      "source": [
        "A.shape[0]"
      ]
    },
    {
      "cell_type": "code",
      "execution_count": 13,
      "metadata": {},
      "outputs": [
        {
          "name": "stdout",
          "output_type": "stream",
          "text": [
            "[[1 2]\n",
            " [3 4]\n",
            " [5 6]]\n"
          ]
        }
      ],
      "source": [
        "B = np.array([[1, 2], [3, 4], [5, 6]])\n",
        "print(B)"
      ]
    },
    {
      "cell_type": "code",
      "execution_count": 14,
      "metadata": {},
      "outputs": [
        {
          "name": "stdout",
          "output_type": "stream",
          "text": [
            "dim: 2\n",
            "Shape: (3, 2)\n"
          ]
        }
      ],
      "source": [
        "print(\"dim:\", np.ndim(B))\n",
        "print(\"Shape:\", B.shape)"
      ]
    },
    {
      "cell_type": "code",
      "execution_count": 15,
      "metadata": {},
      "outputs": [
        {
          "name": "stdout",
          "output_type": "stream",
          "text": [
            "AとBの積: [[19 22]\n",
            " [43 50]]\n"
          ]
        }
      ],
      "source": [
        "A = np.array([[1, 2], [3, 4]])\n",
        "B = np.array([[5, 6], [7, 8]])\n",
        "print(\"AとBの積:\", np.dot(A, B))"
      ]
    },
    {
      "cell_type": "code",
      "execution_count": 16,
      "metadata": {},
      "outputs": [
        {
          "data": {
            "text/plain": [
              "array([23, 53, 83])"
            ]
          },
          "execution_count": 16,
          "metadata": {},
          "output_type": "execute_result"
        }
      ],
      "source": [
        "A = np.array([[1, 2], [3, 4], [5, 6]])\n",
        "# １次元の配列を渡すと[[7],[8]]みたいなイメージかな\n",
        "B = np.array([7, 8])\n",
        "\n",
        "np.dot(A, B)"
      ]
    },
    {
      "cell_type": "markdown",
      "metadata": {},
      "source": [
        "ニューラルネットワークの計算を行列で行う\n"
      ]
    },
    {
      "cell_type": "code",
      "execution_count": 17,
      "metadata": {},
      "outputs": [
        {
          "name": "stdout",
          "output_type": "stream",
          "text": [
            "y1:5 y2:11 y317\n"
          ]
        }
      ],
      "source": [
        "X = np.array([1, 2])\n",
        "W = np.array([[1, 3, 5], [2, 4, 6]])\n",
        "Y = np.dot(X, W)\n",
        "print(\"y1:{} y2:{} y3{}\".format(*Y))"
      ]
    },
    {
      "cell_type": "markdown",
      "metadata": {},
      "source": [
        "各層における信号伝達の実装\n"
      ]
    },
    {
      "cell_type": "code",
      "execution_count": 18,
      "metadata": {},
      "outputs": [
        {
          "name": "stdout",
          "output_type": "stream",
          "text": [
            "[0.3 0.7 1.1]\n",
            "[0.57444252 0.66818777 0.75026011]\n"
          ]
        }
      ],
      "source": [
        "# 0→1層の実装\n",
        "X = np.array([1.0, 0.5])\n",
        "W1 = np.array([[0.1, 0.3, 0.5], [0.2, 0.4, 0.6]])\n",
        "B1 = np.array([0.1, 0.2, 0.3])\n",
        "\n",
        "A1 = np.dot(X, W1) + B1\n",
        "# 活性化関数としてシグモイド関数を使用。\n",
        "Z1 = sigmoid(A1)\n",
        "print(A1)\n",
        "print(Z1)"
      ]
    },
    {
      "cell_type": "code",
      "execution_count": 19,
      "metadata": {},
      "outputs": [
        {
          "name": "stdout",
          "output_type": "stream",
          "text": [
            "A2 [0.51615984 1.21402696]\n",
            "Z2 [0.62624937 0.7710107 ]\n"
          ]
        }
      ],
      "source": [
        "# 1→2層の実装\n",
        "W2 = np.array(\n",
        "    [[0.1, 0.4], [0.2, 0.5], [0.3, 0.6]]\n",
        ")  # 1→2層にかけて出力するニューロンの数が2個なのはここで定義しているW2の列が2つ？\n",
        "B2 = np.array([0.1, 0.2])\n",
        "A2 = np.dot(Z1, W2) + B2  # 1層目からの出力をを入力としている点が先ほどと異なる\n",
        "Z2 = sigmoid(A2)\n",
        "print(\"A2\", A2)\n",
        "print(\"Z2\", Z2)"
      ]
    },
    {
      "cell_type": "code",
      "execution_count": 20,
      "metadata": {},
      "outputs": [],
      "source": [
        "# 出力層への実装\n",
        "def identity_function(x):\n",
        "    return x\n",
        "\n",
        "\n",
        "W3 = np.array([[0.1, 0.3], [0.2, 0.4]])\n",
        "B3 = np.array([0.1, 0.2])\n",
        "\n",
        "A3 = np.dot(Z2, W3) + B3\n",
        "Y = identity_function(A3)  # 活性化関数に恒等関数を使用。出力層ではシグモイド関数は使わない。"
      ]
    },
    {
      "cell_type": "markdown",
      "metadata": {},
      "source": [
        "## 出力層の設計\n"
      ]
    },
    {
      "cell_type": "code",
      "execution_count": 21,
      "metadata": {},
      "outputs": [
        {
          "name": "stdout",
          "output_type": "stream",
          "text": [
            "[0.01821127 0.24519181 0.73659691]\n"
          ]
        }
      ],
      "source": [
        "def softmax(a: np.ndarray):\n",
        "    c = np.max(a)  # オーバーフロー対策\n",
        "    exp_a = np.exp(a - c)\n",
        "    sum_exp_a = np.sum(exp_a)\n",
        "    y = exp_a / sum_exp_a\n",
        "    return y\n",
        "\n",
        "\n",
        "a = np.array([0.3, 2.9, 4.0])\n",
        "y = softmax(a)\n",
        "print(y)"
      ]
    },
    {
      "cell_type": "markdown",
      "metadata": {},
      "source": [
        "## 手書き数字認識\n",
        "\n",
        "MNIST を使用した分類\n",
        "\n",
        "- MNIST の画像は 28px x 28px の画像\n",
        "- それぞれの数字の画像には「１」「２」「３」のようにラベルが割り当てられている\n",
        "\n",
        "### load_mnist について\n",
        "\n",
        "引数 flatten を False にすると 1 _ 28 _ 28 の３次元配列として画像を扱う\n",
        "\n",
        "True にすると要素数が 784(28 \\* 28)個ある１次元配列として画像を扱う\n",
        "\n",
        "訓練画像は 60000 枚、テスト画像が 10000 枚がある。出力結果にこれらの数字が出てくるが画像の枚数のことを意味していると思われる。\n",
        "\n",
        "### one hot 表現について\n",
        "\n",
        "https://mathwords.net/onehot\n",
        "\n",
        "ベクトルで表現する。変数のすべての値を平等に扱える。\n"
      ]
    },
    {
      "cell_type": "code",
      "execution_count": 22,
      "metadata": {},
      "outputs": [],
      "source": [
        "# MNISTの読み込みなどは時間がかかるかもしれないので使いたい時だけ以下の変数をTrueに設定する\n",
        "USE_MNIST = False"
      ]
    },
    {
      "cell_type": "code",
      "execution_count": 23,
      "metadata": {},
      "outputs": [],
      "source": [
        "import sys, os\n",
        "from dataset.mnist import load_mnist\n",
        "from PIL import Image\n",
        "import pickle\n",
        "\n",
        "if USE_MNIST:\n",
        "    sys.path.append(os.pardir)\n",
        "    (x_train, t_train), (x_test, t_test) = load_mnist(flatten=True, normalize=False)\n",
        "\n",
        "    print(\"--------------------\")\n",
        "    print(\"x_train.shape\", x_train.shape)  # 訓練画像\n",
        "    print(\"t_train.shape\", t_train.shape)  # 訓練ラベル\n",
        "    print(\"x_test.shape\", x_test.shape)  # テスト画像\n",
        "    print(\"t_train.shape\", x_test.shape)  # テストラベル\n",
        "    print(\"--------------------\")\n",
        "\n",
        "    def img_show(img):\n",
        "        pil_img = Image.fromarray(np.uint8(img))\n",
        "        pil_img.show()\n",
        "\n",
        "    img = x_train[0]\n",
        "    label = t_train[0]\n",
        "    print(label)  # 「５」\n",
        "\n",
        "    print(img.shape)\n",
        "\n",
        "    img = img.reshape(28, 28)  # 28px x 28pxに変形\n",
        "    print(img.shape)\n",
        "    img_show(img)"
      ]
    },
    {
      "cell_type": "markdown",
      "metadata": {},
      "source": [
        "↓ MNIST を使用して推測する。\n"
      ]
    },
    {
      "cell_type": "code",
      "execution_count": 24,
      "metadata": {},
      "outputs": [],
      "source": [
        "if USE_MNIST:\n",
        "\n",
        "    def get_data():\n",
        "        (x_train, t_train), (x_test, t_test) = load_mnist(\n",
        "            normalize=True, flatten=True, one_hot_label=False\n",
        "        )\n",
        "        return x_test, t_test\n",
        "\n",
        "    def init_network():\n",
        "        with open(\"sample_weight.pkl\", \"rb\") as f:\n",
        "            network = pickle.load(f)\n",
        "        return network\n",
        "\n",
        "    def predict(network, x: np.ndarray):\n",
        "        W1, W2, W3 = network[\"W1\"], network[\"W2\"], network[\"W3\"]\n",
        "        b1, b2, b3 = network[\"b1\"], network[\"b2\"], network[\"b3\"]\n",
        "        a1 = np.dot(x, W1) + b1\n",
        "        z1 = sigmoid(a1)\n",
        "        # print(z1.shape)\n",
        "        a2 = np.dot(z1, W2) + b2\n",
        "        z2 = sigmoid(a2)\n",
        "        # print(z2.shape)\n",
        "        a3 = np.dot(z2, W3) + b3\n",
        "        # print(a3.shape)\n",
        "        y = softmax(a3)\n",
        "        return y\n",
        "\n",
        "    x, t = get_data()\n",
        "    network = init_network()\n",
        "    accuracy_cnt = 0\n",
        "\n",
        "    for i in range(len(x)):\n",
        "        y = predict(network, x[i])\n",
        "        p = np.argmax(y)\n",
        "        if p == t[i]:\n",
        "            accuracy_cnt += 1\n",
        "    print(\"Accuracy: \" + str(float(accuracy_cnt) / len(x)))"
      ]
    },
    {
      "cell_type": "markdown",
      "metadata": {},
      "source": [
        "### バッチ処理\n"
      ]
    },
    {
      "cell_type": "code",
      "execution_count": 25,
      "metadata": {},
      "outputs": [],
      "source": [
        "if USE_MNIST:\n",
        "    x, t = get_data()\n",
        "    network = init_network()\n",
        "    batch_size = 100  # バッチの数\n",
        "    accuracy_cnt = 0\n",
        "\n",
        "    for i in range(0, len(x), batch_size):\n",
        "        x_batch = x[i : i + batch_size]\n",
        "        y_batch = predict(network, x_batch)\n",
        "        p = np.argmax(y_batch, axis=1)\n",
        "        accuracy_cnt += np.sum(p == t[i : i + batch_size])\n",
        "    print(\"Accuracy:\" + str(float(accuracy_cnt) / len(x)))"
      ]
    },
    {
      "cell_type": "markdown",
      "metadata": {},
      "source": [
        "# 第４章　ニューラルネットワークの学習\n"
      ]
    },
    {
      "cell_type": "markdown",
      "metadata": {},
      "source": [
        "## ２乗和誤差\n",
        "\n",
        "損失関数として用いられる２乗和誤差\n"
      ]
    },
    {
      "cell_type": "code",
      "execution_count": 26,
      "metadata": {},
      "outputs": [],
      "source": [
        "def sum_squared_error(y: np.ndarray, t: np.ndarray):\n",
        "    return 0.5 * np.sum((y - t) ** 2)"
      ]
    },
    {
      "cell_type": "markdown",
      "metadata": {},
      "source": [
        "例 1。2 の出力が最も高い例\n"
      ]
    },
    {
      "cell_type": "code",
      "execution_count": 27,
      "metadata": {},
      "outputs": [
        {
          "data": {
            "text/plain": [
              "0.09750000000000003"
            ]
          },
          "execution_count": 27,
          "metadata": {},
          "output_type": "execute_result"
        }
      ],
      "source": [
        "# one-hot表現。この場合は「2」を正解とする。\n",
        "t = [0, 0, 1, 0, 0, 0, 0, 0, 0, 0]\n",
        "\n",
        "# ニューラルネットワークの出力と仮定。「2」の出力がもっとも高い\n",
        "y = [0.1, 0.05, 0.6, 0.0, 0.05, 0.1, 0.0, 0.1, 0.0, 0.0]\n",
        "sum_squared_error(np.array(y), np.array(t))"
      ]
    },
    {
      "cell_type": "markdown",
      "metadata": {},
      "source": [
        "例 2。 7 の出力が最も高いの例\n"
      ]
    },
    {
      "cell_type": "code",
      "execution_count": 28,
      "metadata": {},
      "outputs": [
        {
          "data": {
            "text/plain": [
              "0.5975"
            ]
          },
          "execution_count": 28,
          "metadata": {},
          "output_type": "execute_result"
        }
      ],
      "source": [
        "y = [0.1, 0.05, 0.1, 0.0, 0.05, 0.1, 0.0, 0.6, 0.0, 0.0]\n",
        "sum_squared_error(np.array(y), np.array(t))"
      ]
    },
    {
      "cell_type": "markdown",
      "metadata": {},
      "source": [
        "つまり、例 1 の方が損失関数の値が小さい → より適した結果と言える。\n"
      ]
    },
    {
      "cell_type": "markdown",
      "metadata": {},
      "source": [
        "## 交差エントロピー誤差\n"
      ]
    },
    {
      "cell_type": "code",
      "execution_count": 29,
      "metadata": {},
      "outputs": [],
      "source": [
        "def cross_entropy_error(y, t):\n",
        "    delta = 1e-7  # np.log(0)となってマイナス無限大になるのを阻止\n",
        "    if y.ndim == 1:\n",
        "        t = t.reshape(1, t.size)\n",
        "        y = y.reshape(1, y.size)\n",
        "    batch_size = y.shape[0]\n",
        "    return -np.sum(t * np.log(y + delta)) / batch_size"
      ]
    },
    {
      "cell_type": "code",
      "execution_count": 30,
      "metadata": {},
      "outputs": [
        {
          "data": {
            "text/plain": [
              "0.510825457099338"
            ]
          },
          "execution_count": 30,
          "metadata": {},
          "output_type": "execute_result"
        }
      ],
      "source": [
        "t = np.array([0, 0, 1, 0, 0, 0, 0, 0, 0, 0])\n",
        "y = np.array([0.1, 0.05, 0.6, 0.0, 0.05, 0.1, 0.0, 0.1, 0.0, 0.0])\n",
        "cross_entropy_error(y, t)"
      ]
    },
    {
      "cell_type": "code",
      "execution_count": 31,
      "metadata": {},
      "outputs": [
        {
          "data": {
            "text/plain": [
              "2.302584092994546"
            ]
          },
          "execution_count": 31,
          "metadata": {},
          "output_type": "execute_result"
        }
      ],
      "source": [
        "y = np.array([0.1, 0.05, 0.1, 0.0, 0.05, 0.1, 0.0, 0.6, 0.0, 0.0])\n",
        "cross_entropy_error(y, t)"
      ]
    },
    {
      "cell_type": "code",
      "execution_count": 32,
      "metadata": {},
      "outputs": [
        {
          "name": "stdout",
          "output_type": "stream",
          "text": [
            "[0 5 7]\n"
          ]
        }
      ],
      "source": [
        "y = np.array([[0, 1, 2], [3, 4, 5], [6, 7, 8]])\n",
        "batch_size = 3\n",
        "t = np.array([0, 2, 1])\n",
        "print(y[np.arange(batch_size), t])"
      ]
    },
    {
      "cell_type": "markdown",
      "metadata": {},
      "source": [
        "## 4.3.2 数値微分\n"
      ]
    },
    {
      "cell_type": "code",
      "execution_count": 33,
      "metadata": {},
      "outputs": [
        {
          "data": {
            "image/png": "[encoded data removed]",
            "text/plain": [
              "<Figure size 640x480 with 1 Axes>"
            ]
          },
          "metadata": {},
          "output_type": "display_data"
        }
      ],
      "source": [
        "def function_1(x: int):\n",
        "    return 0.01 * x**2 + 0.1 * x\n",
        "\n",
        "\n",
        "x = np.arange(0.0, 20.0, 0.1)\n",
        "y = function_1(x)\n",
        "plt.xlabel(\"x\")\n",
        "plt.ylabel(\"f(x)\")\n",
        "plt.plot(x, y)\n",
        "plt.show()"
      ]
    },
    {
      "cell_type": "code",
      "execution_count": null,
      "metadata": {},
      "outputs": [],
      "source": []
    },
    {
      "cell_type": "code",
      "execution_count": 34,
      "metadata": {},
      "outputs": [
        {
          "data": {
            "image/png": "[encoded data removed]",
            "text/plain": [
              "<Figure size 640x480 with 1 Axes>"
            ]
          },
          "metadata": {},
          "output_type": "display_data"
        }
      ],
      "source": [
        "def numerical_diff(f, x):\n",
        "    h = 1e-4  # 0.0001\n",
        "    return (f(x + h) - f(x - h)) / (2 * h)\n",
        "\n",
        "\n",
        "def tangent_line(f, x):\n",
        "    d = numerical_diff(f, x)\n",
        "    y = f(x) - d * x\n",
        "    return lambda t: d * t + y\n",
        "\n",
        "\n",
        "tf = tangent_line(function_1, 5)\n",
        "y2 = tf(x)\n",
        "\n",
        "plt.plot(x, y)\n",
        "plt.plot(x, y2)\n",
        "plt.plot(5, function_1(5), marker=\".\")\n",
        "plt.show()"
      ]
    },
    {
      "cell_type": "code",
      "execution_count": 35,
      "metadata": {},
      "outputs": [
        {
          "data": {
            "text/plain": [
              "0.1999999999990898"
            ]
          },
          "execution_count": 35,
          "metadata": {},
          "output_type": "execute_result"
        }
      ],
      "source": [
        "numerical_diff(function_1, 5)"
      ]
    },
    {
      "cell_type": "markdown",
      "metadata": {},
      "source": [
        "## 4.3.3 偏微分\n"
      ]
    },
    {
      "cell_type": "code",
      "execution_count": 36,
      "metadata": {},
      "outputs": [
        {
          "data": {
            "text/plain": [
              "<mpl_toolkits.mplot3d.art3d.Poly3DCollection at 0x14a43d590>"
            ]
          },
          "execution_count": 36,
          "metadata": {},
          "output_type": "execute_result"
        },
        {
          "data": {
            "image/png": "[encoded data removed]",
            "text/plain": [
              "<Figure size 640x480 with 1 Axes>"
            ]
          },
          "metadata": {},
          "output_type": "display_data"
        }
      ],
      "source": [
        "from mpl_toolkits.mplot3d import Axes3D\n",
        "\n",
        "\n",
        "def function_2(x: np.ndarray[int]):\n",
        "    if x.ndim == 1:\n",
        "        return np.sum(x**2)\n",
        "    else:\n",
        "        return np.sum(x**2, axis=1)\n",
        "\n",
        "\n",
        "def createData(x0Array: np.ndarray[int], x1Array: np.ndarray[int]):\n",
        "    x = []\n",
        "    y = []\n",
        "    z = []\n",
        "    for i, x1 in enumerate(x0Array):\n",
        "        for j, x0 in enumerate(x1Array):\n",
        "            x.append(x1)\n",
        "            y.append(x0)\n",
        "            z.append(function_2(np.array([x1, x0])))\n",
        "    return (\n",
        "        np.array(x).reshape(len(x1Array), len(x0Array)),\n",
        "        np.array(y).reshape(len(x1Array), len(x0Array)),\n",
        "        np.array(z).reshape(len(x1Array), len(x0Array)),\n",
        "    )\n",
        "\n",
        "\n",
        "x0 = np.arange(-3, 4, 1)\n",
        "x1 = np.arange(-3, 4, 1)\n",
        "x, y, z = createData(x0, x1)\n",
        "fig = plt.figure()\n",
        "\n",
        "ax = fig.add_subplot(projection=\"3d\")\n",
        "\n",
        "ax.plot_surface(x, y, z, cmap=\"viridis\")"
      ]
    },
    {
      "cell_type": "markdown",
      "metadata": {},
      "source": [
        "勾配とは全ての変数の偏微分をベクトルとしてまとめたもののこと。\n",
        "\n",
        "numercai_gradient はそれを計算している。\n"
      ]
    },
    {
      "cell_type": "code",
      "execution_count": 37,
      "metadata": {},
      "outputs": [],
      "source": [
        "def numerical_gradient(f, x):\n",
        "    h = 1e-4\n",
        "    grad = np.zeros_like(x)  # 要素2個の配列（偏微分の結果）\n",
        "\n",
        "    for idx in range(x.size):\n",
        "        tmp_val = x[idx]\n",
        "        x[idx] = tmp_val + h\n",
        "        fxh1 = f(x)\n",
        "\n",
        "        x[idx] = tmp_val - h\n",
        "        fxh2 = f(x)\n",
        "\n",
        "        grad[idx] = (fxh1 - fxh2) / (2 * h)\n",
        "        x[idx] = tmp_val\n",
        "    return grad\n",
        "\n",
        "\n",
        "def numerical_gradient_batch(f, X):\n",
        "    if X.ndim == 1:\n",
        "        return numerical_gradient(f, X)\n",
        "    else:\n",
        "        grad = np.zeros_like(X)\n",
        "        for idx, x in enumerate(X):\n",
        "            grad[idx] = numerical_gradient(f, x)\n",
        "        return grad"
      ]
    },
    {
      "cell_type": "code",
      "execution_count": 38,
      "metadata": {},
      "outputs": [
        {
          "name": "stdout",
          "output_type": "stream",
          "text": [
            "[6. 8.]\n",
            "[0. 4.]\n",
            "[6. 0.]\n",
            "[0. 0.]\n"
          ]
        }
      ],
      "source": [
        "print(numerical_gradient(function_2, np.array([3.0, 4.0])))\n",
        "print(numerical_gradient(function_2, np.array([0.0, 2.0])))\n",
        "print(numerical_gradient(function_2, np.array([3.0, 0.0])))\n",
        "print(numerical_gradient(function_2, np.array([0.0, 0.0])))"
      ]
    },
    {
      "cell_type": "code",
      "execution_count": 39,
      "metadata": {},
      "outputs": [
        {
          "data": {
            "image/png": "[encoded data removed]",
            "text/plain": [
              "<Figure size 640x480 with 1 Axes>"
            ]
          },
          "metadata": {},
          "output_type": "display_data"
        }
      ],
      "source": [
        "x0 = np.arange(-2, 2.5, 0.25)\n",
        "x1 = np.arange(-2, 2.5, 0.25)\n",
        "X, Y = np.meshgrid(x0, x1)\n",
        "X = X.flatten()\n",
        "Y = Y.flatten()\n",
        "grad = numerical_gradient_batch(function_2, np.array([X, Y]).T).T\n",
        "plt.figure()\n",
        "plt.quiver(\n",
        "    X, Y, -grad[0], -grad[1], angles=\"xy\", color=\"#666666\"\n",
        ")  # quiverはベクトルを描画する。X,Yはベクトルの開始点のarray。-grad[0] -grad[1]はベクトルの成分のarray。\n",
        "plt.xlim([-2, 2])\n",
        "plt.ylim([-2, 2])\n",
        "plt.xlabel(\"x0\")\n",
        "plt.ylabel(\"x1\")\n",
        "plt.grid()\n",
        "plt.draw()\n",
        "plt.show()"
      ]
    },
    {
      "cell_type": "markdown",
      "metadata": {},
      "source": [
        "## 4.4.1 勾配法\n",
        "\n",
        "勾配降下法の実装。\n"
      ]
    },
    {
      "cell_type": "code",
      "execution_count": 40,
      "metadata": {},
      "outputs": [],
      "source": [
        "from typing import Callable\n",
        "from numpy import ndarray\n",
        "\n",
        "\n",
        "def gradient_descent(\n",
        "    f: Callable[[ndarray], object], init_x: ndarray[float], lr=0.01, step_num=100\n",
        "):\n",
        "    x = init_x\n",
        "    for i in range(step_num):\n",
        "        grad = numerical_gradient(f, x)\n",
        "        x -= lr * grad\n",
        "    return x"
      ]
    },
    {
      "cell_type": "code",
      "execution_count": 41,
      "metadata": {},
      "outputs": [
        {
          "name": "stdout",
          "output_type": "stream",
          "text": [
            "[-6.11110793e-10  8.14814391e-10]\n",
            "[4.07407195e-10 4.07407195e-10]\n"
          ]
        }
      ],
      "source": [
        "init_x = np.array([-3.0, 4.0])\n",
        "print(gradient_descent(function_2, init_x=init_x, lr=0.1, step_num=100))\n",
        "\n",
        "init_x = np.array([2.0, 2.0])\n",
        "print(gradient_descent(function_2, init_x=init_x, lr=0.1, step_num=100))"
      ]
    },
    {
      "cell_type": "code",
      "execution_count": 42,
      "metadata": {},
      "outputs": [
        {
          "data": {
            "image/png": "[encoded data removed]",
            "text/plain": [
              "<Figure size 640x480 with 1 Axes>"
            ]
          },
          "metadata": {},
          "output_type": "display_data"
        }
      ],
      "source": [
        "import numpy as np\n",
        "import matplotlib.pylab as plt\n",
        "\n",
        "\n",
        "def gradient_descent_with_history(f, init_x, lr=0.01, step_num=100):\n",
        "    x = init_x\n",
        "    x_history = []\n",
        "\n",
        "    for i in range(step_num):\n",
        "        x_history.append(x.copy())\n",
        "\n",
        "        grad = numerical_gradient(f, x)\n",
        "        x -= lr * grad\n",
        "\n",
        "    return x, np.array(x_history)\n",
        "\n",
        "\n",
        "init_x = np.array([-3.0, 4.0])\n",
        "\n",
        "lr = 0.1\n",
        "step_num = 20\n",
        "x, x_history = gradient_descent_with_history(\n",
        "    function_2, init_x, lr=lr, step_num=step_num\n",
        ")\n",
        "\n",
        "plt.plot([-5, 5], [0, 0], \"--b\")\n",
        "plt.plot([0, 0], [-5, 5], \"--b\")\n",
        "plt.plot(x_history[:, 0], x_history[:, 1], \"o\")\n",
        "plt.xlim(-3.5, 3.5)\n",
        "plt.ylim(-4.5, 4.5)\n",
        "plt.xlabel(\"X0\")\n",
        "plt.ylabel(\"X1\")\n",
        "plt.show()"
      ]
    },
    {
      "cell_type": "code",
      "execution_count": 43,
      "metadata": {},
      "outputs": [
        {
          "name": "stdout",
          "output_type": "stream",
          "text": [
            "[[-3.          4.        ]\n",
            " [-2.9994      3.9992    ]\n",
            " [-2.99880012  3.99840016]\n",
            " [-2.99820036  3.99760048]\n",
            " [-2.99760072  3.99680096]\n",
            " [-2.9970012   3.9960016 ]\n",
            " [-2.9964018   3.9952024 ]\n",
            " [-2.99580252  3.99440336]\n",
            " [-2.99520336  3.99360448]\n",
            " [-2.99460432  3.99280576]\n",
            " [-2.9940054   3.9920072 ]\n",
            " [-2.9934066   3.99120879]\n",
            " [-2.99280791  3.99041055]\n",
            " [-2.99220935  3.98961247]\n",
            " [-2.99161091  3.98881455]\n",
            " [-2.99101259  3.98801679]\n",
            " [-2.99041439  3.98721918]\n",
            " [-2.9898163   3.98642174]\n",
            " [-2.98921834  3.98562445]\n",
            " [-2.9886205   3.98482733]\n",
            " [-2.98802277  3.98403036]\n",
            " [-2.98742517  3.98323356]\n",
            " [-2.98682768  3.98243691]\n",
            " [-2.98623032  3.98164042]\n",
            " [-2.98563307  3.9808441 ]\n",
            " [-2.98503594  3.98004793]\n",
            " [-2.98443894  3.97925192]\n",
            " [-2.98384205  3.97845607]\n",
            " [-2.98324528  3.97766038]\n",
            " [-2.98264863  3.97686484]\n",
            " [-2.9820521   3.97606947]\n",
            " [-2.98145569  3.97527426]\n",
            " [-2.9808594   3.9744792 ]\n",
            " [-2.98026323  3.97368431]\n",
            " [-2.97966718  3.97288957]\n",
            " [-2.97907124  3.97209499]\n",
            " [-2.97847543  3.97130057]\n",
            " [-2.97787973  3.97050631]\n",
            " [-2.97728416  3.96971221]\n",
            " [-2.9766887   3.96891827]\n",
            " [-2.97609336  3.96812448]\n",
            " [-2.97549814  3.96733086]\n",
            " [-2.97490305  3.96653739]\n",
            " [-2.97430806  3.96574409]\n",
            " [-2.9737132   3.96495094]\n",
            " [-2.97311846  3.96415795]\n",
            " [-2.97252384  3.96336512]\n",
            " [-2.97192933  3.96257244]\n",
            " [-2.97133495  3.96177993]\n",
            " [-2.97074068  3.96098757]\n",
            " [-2.97014653  3.96019537]\n",
            " [-2.9695525   3.95940334]\n",
            " [-2.96895859  3.95861145]\n",
            " [-2.9683648   3.95781973]\n",
            " [-2.96777113  3.95702817]\n",
            " [-2.96717757  3.95623676]\n",
            " [-2.96658414  3.95544552]\n",
            " [-2.96599082  3.95465443]\n",
            " [-2.96539762  3.9538635 ]\n",
            " [-2.96480454  3.95307272]\n",
            " [-2.96421158  3.95228211]\n",
            " [-2.96361874  3.95149165]\n",
            " [-2.96302601  3.95070135]\n",
            " [-2.96243341  3.94991121]\n",
            " [-2.96184092  3.94912123]\n",
            " [-2.96124855  3.94833141]\n",
            " [-2.96065631  3.94754174]\n",
            " [-2.96006417  3.94675223]\n",
            " [-2.95947216  3.94596288]\n",
            " [-2.95888027  3.94517369]\n",
            " [-2.95828849  3.94438465]\n",
            " [-2.95769683  3.94359578]\n",
            " [-2.95710529  3.94280706]\n",
            " [-2.95651387  3.9420185 ]\n",
            " [-2.95592257  3.94123009]\n",
            " [-2.95533139  3.94044185]\n",
            " [-2.95474032  3.93965376]\n",
            " [-2.95414937  3.93886583]\n",
            " [-2.95355854  3.93807805]\n",
            " [-2.95296783  3.93729044]\n",
            " [-2.95237724  3.93650298]\n",
            " [-2.95178676  3.93571568]\n",
            " [-2.9511964   3.93492854]\n",
            " [-2.95060616  3.93414155]\n",
            " [-2.95001604  3.93335472]\n",
            " [-2.94942604  3.93256805]\n",
            " [-2.94883615  3.93178154]\n",
            " [-2.94824639  3.93099518]\n",
            " [-2.94765674  3.93020898]\n",
            " [-2.94706721  3.92942294]\n",
            " [-2.94647779  3.92863706]\n",
            " [-2.9458885   3.92785133]\n",
            " [-2.94529932  3.92706576]\n",
            " [-2.94471026  3.92628035]\n",
            " [-2.94412132  3.92549509]\n",
            " [-2.94353249  3.92470999]\n",
            " [-2.94294379  3.92392505]\n",
            " [-2.9423552   3.92314026]\n",
            " [-2.94176673  3.92235564]\n",
            " [-2.94117837  3.92157116]]\n"
          ]
        },
        {
          "data": {
            "image/png": "[encoded data removed]",
            "text/plain": [
              "<Figure size 640x480 with 1 Axes>"
            ]
          },
          "metadata": {},
          "output_type": "display_data"
        }
      ],
      "source": [
        "init_x = np.array([-3.0, 4.0])\n",
        "# 大きすぎ\n",
        "# lr = 10\n",
        "# # 小さすぎ\n",
        "lr = 1e-4\n",
        "x, x_history = gradient_descent_with_history(\n",
        "    function_2, init_x=init_x, lr=lr, step_num=100\n",
        ")\n",
        "\n",
        "print(x_history)\n",
        "plt.plot([-5, 5], [0, 0], \"--b\")\n",
        "plt.plot([0, 0], [-5, 5], \"--b\")\n",
        "plt.plot(x_history[:, 0], x_history[:, 1], \"o\")\n",
        "\n",
        "plt.xlabel(\"X0\")\n",
        "plt.ylabel(\"X1\")\n",
        "plt.show()"
      ]
    },
    {
      "cell_type": "markdown",
      "metadata": {},
      "source": [
        "## 4.4.2 　ニューラルネットワークの勾配\n",
        "\n",
        "ニューラルネットワークにおける勾配とは、重みパラメータに関する損失関数の勾配。\n"
      ]
    },
    {
      "cell_type": "code",
      "execution_count": 44,
      "metadata": {},
      "outputs": [],
      "source": [
        "import sys, os\n",
        "\n",
        "sys.path.append((os.pardir))\n",
        "\n",
        "import numpy as np\n",
        "\n",
        "\n",
        "class SimpleNet:\n",
        "    def __init__(self) -> None:\n",
        "        self.W = np.random.randn(2, 3)\n",
        "\n",
        "    def predict(self, x: float):\n",
        "        return np.dot(x, self.W)\n",
        "\n",
        "    def loss(self, x: float, t: float):\n",
        "        z = self.predict(x)\n",
        "        y = softmax(z)\n",
        "        loss = cross_entropy_error(y, t)\n",
        "        return loss"
      ]
    },
    {
      "cell_type": "code",
      "execution_count": 45,
      "metadata": {},
      "outputs": [
        {
          "name": "stdout",
          "output_type": "stream",
          "text": [
            "predict [-0.78179942 -0.30133697 -0.33733077]\n",
            "最大値のインデックス 1\n",
            "loss: 0.9850006309103028\n"
          ]
        }
      ],
      "source": [
        "net = SimpleNet()\n",
        "# print(net.W)\n",
        "\n",
        "x = np.array([0.6, 0.9])\n",
        "p = net.predict(x)\n",
        "print(\"predict\", p)\n",
        "\n",
        "print(\"最大値のインデックス\", np.argmax(p))\n",
        "\n",
        "# 正解ラベル\n",
        "t = np.array([0, 0, 1])\n",
        "print(\"loss:\", net.loss(x, t))"
      ]
    },
    {
      "cell_type": "markdown",
      "metadata": {},
      "source": [
        "勾配を求める\n"
      ]
    },
    {
      "cell_type": "code",
      "execution_count": 46,
      "metadata": {},
      "outputs": [
        {
          "name": "stdout",
          "output_type": "stream",
          "text": [
            "(0, 0)\n",
            "(0, 1)\n",
            "(0, 2)\n",
            "(1, 0)\n",
            "(1, 1)\n",
            "(1, 2)\n",
            " [[ 0.1436615   0.23227506 -0.37593656]\n",
            " [ 0.21549225  0.3484126  -0.56390485]]\n"
          ]
        }
      ],
      "source": [
        "def f(W: ndarray):\n",
        "    return net.loss(x, t)\n",
        "\n",
        "\n",
        "# サンプルより抜粋\n",
        "# 多次元行列に対応したバージョンと思われる。\n",
        "def numerical_gradient(f, x):\n",
        "    h = 1e-4  # 0.0001\n",
        "    grad = np.zeros_like(x)\n",
        "\n",
        "    it = np.nditer(x, flags=[\"multi_index\"], op_flags=[\"readwrite\"])\n",
        "    while not it.finished:\n",
        "        idx = it.multi_index\n",
        "        print(idx)\n",
        "        tmp_val = x[idx]\n",
        "        x[idx] = tmp_val + h\n",
        "        fxh1 = f(x)  # f(x+h)\n",
        "\n",
        "        x[idx] = tmp_val - h\n",
        "        fxh2 = f(x)  # f(x-h)\n",
        "        grad[idx] = (fxh1 - fxh2) / (2 * h)\n",
        "\n",
        "        x[idx] = tmp_val  # 値を元に戻す\n",
        "        it.iternext()\n",
        "\n",
        "    return grad\n",
        "\n",
        "\n",
        "dW = numerical_gradient(f, net.W)\n",
        "print(\"\", dW)"
      ]
    },
    {
      "cell_type": "markdown",
      "metadata": {},
      "source": [
        "4.5 学習アルゴリズムの実装へ入る\n",
        "\n",
        "## 4.5.1 　 2 層ニューララルネットワークのクラス\n"
      ]
    },
    {
      "cell_type": "code",
      "execution_count": 87,
      "metadata": {},
      "outputs": [
        {
          "data": {
            "text/plain": [
              "(100, 10)"
            ]
          },
          "execution_count": 87,
          "metadata": {},
          "output_type": "execute_result"
        }
      ],
      "source": [
        "import sys, os\n",
        "\n",
        "sys.path.append(os.pardir)\n",
        "from common.functions import *\n",
        "from common.gradient import numerical_gradient\n",
        "\n",
        "\n",
        "class TwoLayerNet:\n",
        "    def __init__(self, input_size, hidden_size, output_size, weight_init_std=0.01):\n",
        "        \"\"\"\n",
        "        input_size: int\n",
        "        入力層のニューロンの数\n",
        "\n",
        "        hidden_size: int\n",
        "        隠れ層のニューロンの数\n",
        "\n",
        "        output_size: int\n",
        "        出力層のニューロンの数\n",
        "        \"\"\"\n",
        "        self.params = {}\n",
        "        self.params[\"W1\"] = weight_init_std * np.random.randn(input_size, hidden_size)\n",
        "        self.params[\"b1\"] = np.zeros(hidden_size)\n",
        "        self.params[\"W2\"] = weight_init_std * np.random.randn(hidden_size, output_size)\n",
        "        self.params[\"b2\"] = np.zeros(output_size)\n",
        "\n",
        "    def predict(self, x):\n",
        "        \"\"\"\n",
        "        認識（推論）を行う\n",
        "\n",
        "        x 画像データ\n",
        "        \"\"\"\n",
        "        W1, W2 = self.params[\"W1\"], self.params[\"W2\"]\n",
        "        b1, b2 = self.params[\"b1\"], self.params[\"b2\"]\n",
        "\n",
        "        a1 = np.dot(x, W1) + b1\n",
        "        z1 = sigmoid(a1)\n",
        "        a2 = np.dot(z1, W2) + b2\n",
        "        y = softmax(a2)\n",
        "        return y\n",
        "\n",
        "    def loss(self, x, t):\n",
        "        \"\"\"\n",
        "        損失関数の値を求める。\n",
        "\n",
        "        x:画像データ\n",
        "\n",
        "        t:正解ラベル(one-hot表現)\n",
        "        \"\"\"\n",
        "        y = self.predict(x)\n",
        "        return cross_entropy_error(y, t)\n",
        "\n",
        "    def accuracy(self, x, t):\n",
        "        \"\"\"\n",
        "        認識精度を求める\n",
        "        \"\"\"\n",
        "        y = self.predict(x)\n",
        "        # axis=1を指定すると行に沿った方向（ネットワークの出力のうち一つの画像に相当するもの。画像がどの文字を表しているかの確率の配列）\n",
        "        # どのインデックスの値が一番大きいかを調べることで、推測値を求めることができる\n",
        "        y = np.argmax(y, axis=1)\n",
        "        # 訓練データはone-hot表現なので値が1のインデックスの配列になる。\n",
        "        t = np.argmax(t, axis=1)\n",
        "\n",
        "        accuracy = np.sum(y == t) / float(x.shape[0])\n",
        "        return accuracy\n",
        "\n",
        "    def numerical_gradient(self, x, t):\n",
        "        \"\"\"\n",
        "        重みパラメータに対する勾配を求める。\n",
        "        \"\"\"\n",
        "        loss_W = lambda W: self.loss(x, t)\n",
        "\n",
        "        grads = {}\n",
        "        grads[\"W1\"] = numerical_gradient(loss_W, self.params[\"W1\"])\n",
        "        grads[\"b1\"] = numerical_gradient(loss_W, self.params[\"b1\"])\n",
        "        grads[\"W2\"] = numerical_gradient(loss_W, self.params[\"W2\"])\n",
        "        grads[\"b2\"] = numerical_gradient(loss_W, self.params[\"b2\"])\n",
        "        return grads\n",
        "\n",
        "    def gradient(self, x, t):\n",
        "        W1, W2 = self.params[\"W1\"], self.params[\"W2\"]\n",
        "        b1, b2 = self.params[\"b1\"], self.params[\"b2\"]\n",
        "        grads = {}\n",
        "\n",
        "        batch_num = x.shape[0]\n",
        "\n",
        "        # forward\n",
        "        a1 = np.dot(x, W1) + b1\n",
        "        z1 = sigmoid(a1)\n",
        "        a2 = np.dot(z1, W2) + b2\n",
        "        y = softmax(a2)\n",
        "\n",
        "        # backward\n",
        "        dy = (y - t) / batch_num\n",
        "        grads[\"W2\"] = np.dot(z1.T, dy)\n",
        "        grads[\"b2\"] = np.sum(dy, axis=0)\n",
        "\n",
        "        dz1 = np.dot(dy, W2.T)\n",
        "        da1 = sigmoid_grad(a1) * dz1\n",
        "        grads[\"W1\"] = np.dot(x.T, da1)\n",
        "        grads[\"b1\"] = np.sum(da1, axis=0)\n",
        "\n",
        "        return grads\n",
        "\n",
        "\n",
        "net = TwoLayerNet(input_size=784, hidden_size=100, output_size=10)\n",
        "x = np.random.rand(100, 784)\n",
        "y = net.predict(x)\n",
        "y.shape"
      ]
    },
    {
      "cell_type": "code",
      "execution_count": 82,
      "metadata": {},
      "outputs": [
        {
          "data": {
            "text/plain": [
              "array([1, 2])"
            ]
          },
          "execution_count": 82,
          "metadata": {},
          "output_type": "execute_result"
        }
      ],
      "source": [
        "# argmaxの挙動の例\n",
        "array = np.array([[1, 9, 3], [4, 5, 6]])\n",
        "np.argmax(array, axis=1)"
      ]
    },
    {
      "cell_type": "markdown",
      "metadata": {},
      "source": [
        "TwoLayerNet の`numberical_gradient`の `x` には重みを与えている。\n",
        "\n",
        "具体的には以下のコードで計算されている。\n",
        "\n",
        "```python\n",
        "\n",
        "# 今回、xは2次元のndarray\n",
        "def numerical_gradient(f, x):\n",
        "    h = 1e-4 # 0.0001\n",
        "    grad = np.zeros_like(x)\n",
        "\n",
        "    it = np.nditer(x, flags=['multi_index'], op_flags=['readwrite'])\n",
        "    while not it.finished:\n",
        "        # idxは(0,0)みたいにインデックスを表すタプル。\n",
        "        idx = it.multi_index\n",
        "        tmp_val = x[idx]\n",
        "\t\t\t\t# 元々の重み(x[idx])にhを足したもの。idxの位置の重みを更新。そしてそれを入力として与えて計算。\n",
        "        x[idx] = tmp_val + h\n",
        "        fxh1 = f(x) # f(x+h)\n",
        "\n",
        "\t\t\t\t# 元々の重みにhを引いたもの。idxの位置の重みを更新。そしてそれを入力として与えて計算。\n",
        "        x[idx] = tmp_val - h\n",
        "        fxh2 = f(x) # f(x-h)\n",
        "        grad[idx] = (fxh1 - fxh2) / (2*h)\n",
        "\n",
        "\n",
        "        x[idx] = tmp_val # 値を元に戻す\n",
        "        it.iternext()\n",
        "\n",
        "    return grad\n",
        "```\n"
      ]
    },
    {
      "cell_type": "markdown",
      "metadata": {},
      "source": [
        "grads 変数には params 変数と対応するように各パラメータの勾配\n"
      ]
    },
    {
      "cell_type": "code",
      "execution_count": 56,
      "metadata": {},
      "outputs": [],
      "source": [
        "x = np.random.rand(100, 784)\n",
        "t = np.random.rand(100, 10)\n",
        "grads = net.numerical_gradient(x, t)\n",
        "\n",
        "print(\"grads['W1'].shape\", grads[\"W1\"].shape)\n",
        "print(\"grads['b1'].shape\", grads[\"b1\"].shape)\n",
        "print(\"grads['W2'].shape\", grads[\"W2\"].shape)\n",
        "print(\"grads['b2'].shape\", grads[\"b2\"].shape)"
      ]
    },
    {
      "cell_type": "markdown",
      "metadata": {},
      "source": [
        "## 4.5.2 ミニバッチ学習の実装\n",
        "\n",
        "TwoLayerNet にミニバッチ学習を実装していきます。\n"
      ]
    },
    {
      "cell_type": "code",
      "execution_count": 92,
      "metadata": {},
      "outputs": [
        {
          "name": "stdout",
          "output_type": "stream",
          "text": [
            "train acc, test acc | 0.10218333333333333, 0.101\n",
            "train acc, test acc | 0.78565, 0.7942\n",
            "train acc, test acc | 0.8788166666666667, 0.8829\n",
            "train acc, test acc | 0.89885, 0.9026\n",
            "train acc, test acc | 0.90775, 0.9123\n",
            "train acc, test acc | 0.9133666666666667, 0.9165\n",
            "train acc, test acc | 0.9191833333333334, 0.9217\n",
            "train acc, test acc | 0.9233166666666667, 0.9248\n",
            "train acc, test acc | 0.9266666666666666, 0.927\n",
            "train acc, test acc | 0.9305, 0.9308\n",
            "train acc, test acc | 0.93375, 0.9339\n",
            "train acc, test acc | 0.9369666666666666, 0.9368\n",
            "train acc, test acc | 0.9392, 0.9384\n",
            "train acc, test acc | 0.94175, 0.9403\n",
            "train acc, test acc | 0.94365, 0.942\n",
            "train acc, test acc | 0.9456666666666667, 0.9436\n",
            "train acc, test acc | 0.94695, 0.945\n"
          ]
        },
        {
          "data": {
            "image/png": "[encoded data removed]",
            "text/plain": [
              "<Figure size 640x480 with 1 Axes>"
            ]
          },
          "metadata": {},
          "output_type": "display_data"
        }
      ],
      "source": [
        "import numpy as np\n",
        "from dataset.mnist import load_mnist\n",
        "\n",
        "(x_train, t_train), (x_test, t_test) = load_mnist(normalize=True, one_hot_label=True)\n",
        "train_loss_list = []\n",
        "# ハイパーパラメータ\n",
        "iters_num = 10000\n",
        "train_size = x_train.shape[0]\n",
        "batch_size = 100\n",
        "learning_rate = 0.1\n",
        "\n",
        "train_acc_list = []\n",
        "test_acc_list = []\n",
        "# 1エポックあたりの繰り返し数\n",
        "iter_per_epoch = max(train_size / batch_size, 1)\n",
        "\n",
        "network = TwoLayerNet(input_size=784, hidden_size=50, output_size=10)\n",
        "\n",
        "for i in range(iters_num):\n",
        "    # ミニバッチの取得\n",
        "    batch_mask = np.random.choice(train_size, batch_size)\n",
        "    x_batch = x_train[batch_mask]  # ファンシーインデックス\n",
        "    t_batch = t_train[batch_mask]\n",
        "\n",
        "    # grad = network.numerical_gradient(x_batch, t_batch)\n",
        "    # 高速版\n",
        "    grad = network.gradient(x_batch, t_batch)\n",
        "\n",
        "    # パラメータの更新\n",
        "    for key in (\"W1\", \"b1\", \"W2\", \"b2\"):\n",
        "        network.params[key] -= learning_rate * grad[key]\n",
        "\n",
        "    loss = network.loss(x_batch, t_batch)\n",
        "    train_loss_list.append((loss))\n",
        "    # 1エポックごとに認識精度を計算\n",
        "    if i % iter_per_epoch == 0:\n",
        "        train_acc = network.accuracy(x_train, t_train)\n",
        "        test_acc = network.accuracy(x_test, t_test)\n",
        "        train_acc_list.append(train_acc)\n",
        "        test_acc_list.append(test_acc)\n",
        "        print(\"train acc, test acc | \" + str(train_acc) + \", \" + str(test_acc))\n",
        "\n",
        "# グラフの描画\n",
        "markers = {\"train\": \"o\", \"test\": \"s\"}\n",
        "x = np.arange(len(train_acc_list))\n",
        "plt.plot(x, train_acc_list, label=\"train acc\")\n",
        "plt.plot(x, test_acc_list, label=\"test acc\", linestyle=\"--\")\n",
        "plt.xlabel(\"epochs\")\n",
        "plt.ylabel(\"accuracy\")\n",
        "plt.ylim(0, 1.0)\n",
        "plt.legend(loc=\"lower right\")\n",
        "plt.show()"
      ]
    },
    {
      "cell_type": "code",
      "execution_count": 71,
      "metadata": {},
      "outputs": [
        {
          "data": {
            "text/plain": [
              "[<matplotlib.lines.Line2D at 0x14d020cd0>]"
            ]
          },
          "execution_count": 71,
          "metadata": {},
          "output_type": "execute_result"
        },
        {
          "data": {
            "image/png": "[encoded data removed]",
            "text/plain": [
              "<Figure size 640x480 with 1 Axes>"
            ]
          },
          "metadata": {},
          "output_type": "display_data"
        }
      ],
      "source": [
        "plt.plot(np.arange(len(train_loss_list)), train_loss_list)"
      ]
    },
    {
      "cell_type": "code",
      "execution_count": null,
      "metadata": {},
      "outputs": [],
      "source": []
    },
    {
      "cell_type": "markdown",
      "metadata": {},
      "source": []
    },
    {
      "cell_type": "code",
      "execution_count": null,
      "metadata": {},
      "outputs": [],
      "source": []
    }
  ],
  "metadata": {
    "kernelspec": {
      "display_name": "base",
      "language": "python",
      "name": "python3"
    },
    "language_info": {
      "codemirror_mode": {
        "name": "ipython",
        "version": 3
      },
      "file_extension": ".py",
      "mimetype": "text/x-python",
      "name": "python",
      "nbconvert_exporter": "python",
      "pygments_lexer": "ipython3",
      "version": "3.11.4"
    },
    "orig_nbformat": 4
  },
  "nbformat": 4,
  "nbformat_minor": 2
}
